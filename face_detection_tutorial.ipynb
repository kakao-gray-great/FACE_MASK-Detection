{
  "nbformat": 4,
  "nbformat_minor": 0,
  "metadata": {
    "colab": {
      "name": "face_detection_tutorial.ipynb",
      "provenance": [],
      "private_outputs": true,
      "collapsed_sections": [],
      "toc_visible": true,
      "authorship_tag": "ABX9TyNqrwEjePRIRvwqgUisHtoS",
      "include_colab_link": true
    },
    "kernelspec": {
      "name": "python3",
      "display_name": "Python 3"
    }
  },
  "cells": [
    {
      "cell_type": "markdown",
      "metadata": {
        "id": "view-in-github",
        "colab_type": "text"
      },
      "source": [
        "<a href=\"https://colab.research.google.com/github/oopsys6/FACE_MASK-Detection/blob/main/face_detection_tutorial.ipynb\" target=\"_parent\"><img src=\"https://colab.research.google.com/assets/colab-badge.svg\" alt=\"Open In Colab\"/></a>"
      ]
    },
    {
      "cell_type": "code",
      "metadata": {
        "id": "8D-GwaPmSgnW"
      },
      "source": [
        "!pip install detectron2 -f https://dl.fbaipublicfiles.com/detectron2/wheels/cu101/torch1.6/index.html\n",
        "!pip install --no-cache-dir -I pillow"
      ],
      "execution_count": null,
      "outputs": []
    },
    {
      "cell_type": "code",
      "metadata": {
        "id": "M5T8eitTSjNk"
      },
      "source": [
        "import torch\n",
        "import torchvision\n",
        "\n",
        "import detectron2\n",
        "from detectron2.utils.logger import setup_logger\n",
        "setup_logger()\n",
        "from detectron2 import model_zoo\n",
        "from detectron2.engine import DefaultPredictor, DefaultTrainer\n",
        "from detectron2.config import get_cfg\n",
        "from detectron2.utils.visualizer import Visualizer, ColorMode\n",
        "from detectron2.data import DatasetCatalog, MetadataCatalog, build_detection_test_loader\n",
        "from detectron2.data import datasets, DatasetCatalog, MetadataCatalog, build_detection_train_loader, build_detection_test_loader\n",
        "from detectron2.evaluation import COCOEvaluator, inference_on_dataset\n",
        "from detectron2.structures import BoxMode\n",
        "\n",
        "\n",
        "from tqdm.notebook import tqdm\n",
        "import random\n",
        "import itertools\n",
        "import ntpath\n",
        "\n",
        "import json\n",
        "import pandas as pd\n",
        "import numpy as np\n",
        "import matplotlib.pyplot as plt\n",
        "%matplotlib inline\n",
        "from PIL import Image\n",
        "import cv2\n",
        "\n",
        "import urllib  # download image from url\n",
        "\n",
        "\n",
        "import os\n",
        "for dirname, _, filenames in os.walk('/kaggle/input'):\n",
        "    for filename in filenames[:5]:\n",
        "        print(os.path.join(dirname, filename))"
      ],
      "execution_count": null,
      "outputs": []
    },
    {
      "cell_type": "code",
      "metadata": {
        "id": "MgTF_BNGaD0v"
      },
      "source": [
        "im = Image.open('arin.jpg')"
      ],
      "execution_count": null,
      "outputs": []
    },
    {
      "cell_type": "code",
      "metadata": {
        "id": "TDzMxWaLSlkx"
      },
      "source": [
        "os.makedirs(\"faces\", exist_ok=True)    # create a new folder in kaggle output"
      ],
      "execution_count": null,
      "outputs": []
    },
    {
      "cell_type": "code",
      "metadata": {
        "id": "U3oWrBCLS1gq"
      },
      "source": [
        "faces_df = pd.read_json('face_detection.json', lines=True)"
      ],
      "execution_count": null,
      "outputs": []
    },
    {
      "cell_type": "code",
      "metadata": {
        "id": "GB3oR_87S3t3"
      },
      "source": [
        "faces_df"
      ],
      "execution_count": null,
      "outputs": []
    },
    {
      "cell_type": "code",
      "metadata": {
        "id": "TiMp8REyUllW"
      },
      "source": [
        "faces_df.shape[0]"
      ],
      "execution_count": null,
      "outputs": []
    },
    {
      "cell_type": "code",
      "metadata": {
        "id": "bMml8GX4XjEO"
      },
      "source": [
        "dataset = []\n",
        "\n",
        "\n",
        "for index,row in tqdm(faces_df.iterrows(), total = faces_df.shape[0]):\n",
        "    \n",
        "    img = urllib.request.urlopen(row['content'])\n",
        "    img = Image.open(img)\n",
        "    img = img.convert('RGB')\n",
        "    \n",
        "    image_name = f'face_{index}.jpeg'    # labeling image\n",
        "    img.save(f'faces/{image_name}', \"JPEG\")  # save to dir output kaggle\n",
        "    \n",
        "    annotations = row['annotation']\n",
        "    for i in annotations:\n",
        "        \n",
        "        width = i['imageWidth']\n",
        "        height = i['imageHeight']\n",
        "        points = i['points']\n",
        "        \n",
        "        data = {}\n",
        "        \n",
        "        data['file_name'] = image_name\n",
        "        data['width'] = width\n",
        "        data['height'] = height\n",
        "        \n",
        "        data[\"x_min\"] = int(round(points[0][\"x\"] * width))\n",
        "        data[\"y_min\"] = int(round(points[0][\"y\"] * height))\n",
        "        data[\"x_max\"] = int(round(points[1][\"x\"] * width))\n",
        "        data[\"y_max\"] = int(round(points[1][\"y\"] * height))\n",
        "        \n",
        "        data['class_name'] = 'face'\n",
        "        \n",
        "        dataset.append(data)"
      ],
      "execution_count": null,
      "outputs": []
    },
    {
      "cell_type": "code",
      "metadata": {
        "id": "05XaEEB4XqY7"
      },
      "source": [
        "import PIL\n",
        "print(PIL.PILLOW_VERSION)"
      ],
      "execution_count": null,
      "outputs": []
    },
    {
      "cell_type": "code",
      "metadata": {
        "id": "uXu0uasDYAfh"
      },
      "source": [
        "import PIL"
      ],
      "execution_count": null,
      "outputs": []
    },
    {
      "cell_type": "code",
      "metadata": {
        "id": "Pf3r65chYFh6"
      },
      "source": [
        "!pip uninstall Pillow"
      ],
      "execution_count": null,
      "outputs": []
    },
    {
      "cell_type": "code",
      "metadata": {
        "id": "j3c5YaRhYNBa"
      },
      "source": [
        "!pip install Pillow==5.3.0"
      ],
      "execution_count": null,
      "outputs": []
    },
    {
      "cell_type": "code",
      "metadata": {
        "id": "3rf1BktPYQg6"
      },
      "source": [
        "from PIL import Image"
      ],
      "execution_count": null,
      "outputs": []
    },
    {
      "cell_type": "code",
      "metadata": {
        "id": "CjlFmimCYWSB"
      },
      "source": [
        "dataset = []\n",
        "\n",
        "\n",
        "for index,row in tqdm(faces_df.iterrows(), total = faces_df.shape[0]):\n",
        "    \n",
        "    img = urllib.request.urlopen(row['content'])\n",
        "    img = Image.open(img)\n",
        "    img = img.convert('RGB')\n",
        "    \n",
        "    image_name = f'face_{index}.jpeg'    # labeling image\n",
        "    img.save(f'faces/{image_name}', \"JPEG\")  # save to dir output kaggle\n",
        "    \n",
        "    annotations = row['annotation']\n",
        "    for i in annotations:\n",
        "        \n",
        "        width = i['imageWidth']\n",
        "        height = i['imageHeight']\n",
        "        points = i['points']\n",
        "        \n",
        "        data = {}\n",
        "        \n",
        "        data['file_name'] = image_name\n",
        "        data['width'] = width\n",
        "        data['height'] = height\n",
        "        \n",
        "        data[\"x_min\"] = int(round(points[0][\"x\"] * width))\n",
        "        data[\"y_min\"] = int(round(points[0][\"y\"] * height))\n",
        "        data[\"x_max\"] = int(round(points[1][\"x\"] * width))\n",
        "        data[\"y_max\"] = int(round(points[1][\"y\"] * height))\n",
        "        \n",
        "        data['class_name'] = 'face'\n",
        "        \n",
        "        dataset.append(data)"
      ],
      "execution_count": null,
      "outputs": []
    },
    {
      "cell_type": "code",
      "metadata": {
        "id": "q-gXUhA5YY3u"
      },
      "source": [
        "pip install pillow --upgrade"
      ],
      "execution_count": null,
      "outputs": []
    },
    {
      "cell_type": "code",
      "metadata": {
        "id": "api4R0jqYjVW"
      },
      "source": [
        "import PIL.Image as Image"
      ],
      "execution_count": null,
      "outputs": []
    },
    {
      "cell_type": "code",
      "metadata": {
        "id": "sooXb0JNYpfZ"
      },
      "source": [
        "dataset = []\n",
        "\n",
        "\n",
        "for index,row in tqdm(faces_df.iterrows(), total = faces_df.shape[0]):\n",
        "    \n",
        "    img = urllib.request.urlopen(row['content'])\n",
        "    img = Image.open(img)\n",
        "    img = img.convert('RGB')\n",
        "    \n",
        "    image_name = f'face_{index}.jpeg'    # labeling image\n",
        "    img.save(f'faces/{image_name}', \"JPEG\")  # save to dir output kaggle\n",
        "    \n",
        "    annotations = row['annotation']\n",
        "    for i in annotations:\n",
        "        \n",
        "        width = i['imageWidth']\n",
        "        height = i['imageHeight']\n",
        "        points = i['points']\n",
        "        \n",
        "        data = {}\n",
        "        \n",
        "        data['file_name'] = image_name\n",
        "        data['width'] = width\n",
        "        data['height'] = height\n",
        "        \n",
        "        data[\"x_min\"] = int(round(points[0][\"x\"] * width))\n",
        "        data[\"y_min\"] = int(round(points[0][\"y\"] * height))\n",
        "        data[\"x_max\"] = int(round(points[1][\"x\"] * width))\n",
        "        data[\"y_max\"] = int(round(points[1][\"y\"] * height))\n",
        "        \n",
        "        data['class_name'] = 'face'\n",
        "        \n",
        "        dataset.append(data)"
      ],
      "execution_count": null,
      "outputs": []
    },
    {
      "cell_type": "code",
      "metadata": {
        "id": "QH2L73WW7hLS"
      },
      "source": [
        ""
      ],
      "execution_count": null,
      "outputs": []
    }
  ]
}